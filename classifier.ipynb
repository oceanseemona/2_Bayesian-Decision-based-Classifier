{
 "cells": [
  {
   "cell_type": "code",
   "execution_count": 1,
   "metadata": {},
   "outputs": [],
   "source": [
    "import numpy as np\n",
    "import math\n",
    "import pandas as pd\n",
    "from sklearn.naive_bayes import GaussianNB\n",
    "import statistics as st\n",
    "\n",
    "m1 = [0,0,0,0,0]\n",
    "S1 =np.array([[0.8, 0.2, 0.1, 0.05, 0.01],\n",
    "    [0.2, 0.7, 0.1, 0.03, 0.02],\n",
    "    [0.1, 0.1, 0.8, 0.02, 0.01],\n",
    "    [0.05, 0.03, 0.02, 0.9, 0.01],\n",
    "    [0.01, 0.02, 0.01, 0.01, 0.8]])\n",
    "\n",
    "a1 = np.random.multivariate_normal(m1, S1, 25) \n",
    "b1 = np.random.multivariate_normal(m1, S1, 5000)"
   ]
  },
  {
   "cell_type": "code",
   "execution_count": 2,
   "metadata": {},
   "outputs": [],
   "source": [
    "m2=[1,1,1,1,1]\n",
    "S2 =np.array([[0.9, 0.1, 0.05, 0.02, 0.01],\n",
    "    [0.1, 0.8, 0.1, 0.02, 0.02],\n",
    "    [0.05, 0.1, 0.7, 0.02, 0.01],\n",
    "    [0.02, 0.02, 0.02, 0.6, 0.02],\n",
    "    [0.01, 0.02, 0.01, 0.02, 0.7]])\n",
    "\n",
    "a2 = np.random.multivariate_normal(m2, S2, 25)\n",
    "b2 = np.random.multivariate_normal(m2, S2, 5000)"
   ]
  },
  {
   "cell_type": "code",
   "execution_count": 3,
   "metadata": {},
   "outputs": [],
   "source": [
    "a=np.concatenate((a1,a2)) #50 points (X1) with class w1 & w2 for training \n",
    "training_class=np.concatenate(([0]*25,[1]*25)) #Training class labels\n",
    "\n",
    "b=np.concatenate((b1,b2)) #10,000 points (X2) with class w1 & w1 for testing\n",
    "test_class=np.concatenate(([0]*5000,[1]*5000)) #Class labels for testing"
   ]
  },
  {
   "cell_type": "code",
   "execution_count": 4,
   "metadata": {},
   "outputs": [
    {
     "name": "stdout",
     "output_type": "stream",
     "text": [
      "Mean:\n",
      "[[ 0.02466538  0.02276334  0.07869002 -0.15902809  0.08030643]\n",
      " [ 0.58684045  0.7988728   1.00983985  1.03773726  0.78405446]]\n",
      "\n",
      "Variance:\n",
      "[[1.05960156 0.59883999 0.77011533 0.84560773 0.95168673]\n",
      " [0.91625302 0.88696589 0.60044618 0.58262541 0.87479258]]\n"
     ]
    }
   ],
   "source": [
    "w1_v = st.mean(a1[0:25,0])\n",
    "w1_w = st.mean(a1[0:25,1])\n",
    "w1_x = st.mean(a1[0:25,2])\n",
    "w1_y = st.mean(a1[0:25,3])\n",
    "w1_z = st.mean(a1[0:25,4])\n",
    "\n",
    "w2_v = st.mean(a2[0:25,0])\n",
    "w2_w = st.mean(a2[0:25,1])\n",
    "w2_x = st.mean(a2[0:25,2])\n",
    "w2_y = st.mean(a2[0:25,3])\n",
    "w2_z = st.mean(a2[0:25,4])\n",
    "\n",
    "var1_v = st.variance(a1[0:25,0])\n",
    "var1_w = st.variance(a1[0:25,1])\n",
    "var1_x = st.variance(a1[0:25,2])\n",
    "var1_y = st.variance(a1[0:25,3])\n",
    "var1_z = st.variance(a1[0:25,4])\n",
    "\n",
    "var2_v = st.variance(a2[0:25,0])\n",
    "var2_w = st.variance(a2[0:25,1])\n",
    "var2_x = st.variance(a2[0:25,2])\n",
    "var2_y = st.variance(a2[0:25,3])\n",
    "var2_z = st.variance(a2[0:25,4])\n",
    "\n",
    "centroid = np.array([[w1_v,w1_w,w1_x, w1_y, w1_z],\n",
    "                        [w2_v,w2_w,w2_x, w2_y,w2_z]])\n",
    "variances = np.array([[var1_v,var1_w,var1_x,var1_y,var1_z],\n",
    "                     [var2_v,var2_w,var2_x,var2_y,var2_z]])\n",
    "\n",
    "print(\"Mean:\")\n",
    "print(centroid)\n",
    "print(\"\\nVariance:\")\n",
    "print(variances)"
   ]
  },
  {
   "cell_type": "code",
   "execution_count": 5,
   "metadata": {},
   "outputs": [],
   "source": [
    "def naive_bayes(mean,variance,test_point):\n",
    "\n",
    "    attributes = len(mean)\n",
    "    equation = 1\n",
    "    for i in range(attributes):\n",
    "        exponent =  math.exp(-((test_point[i] - mean[i]) ** 2 / (2 * variance[i])))\n",
    "        k = (1 / (math.sqrt(2 * math.pi * variance[i])))\n",
    "        equation = equation * exponent*k\n",
    "       \n",
    "    return equation"
   ]
  },
  {
   "cell_type": "code",
   "execution_count": 6,
   "metadata": {},
   "outputs": [
    {
     "name": "stdout",
     "output_type": "stream",
     "text": [
      "      True_class  Predicted_class\n",
      "0              0                0\n",
      "1              0                1\n",
      "2              0                0\n",
      "3              0                0\n",
      "4              0                0\n",
      "...          ...              ...\n",
      "9995           1                1\n",
      "9996           1                0\n",
      "9997           1                0\n",
      "9998           1                1\n",
      "9999           1                1\n",
      "\n",
      "[10000 rows x 2 columns]\n"
     ]
    }
   ],
   "source": [
    "\n",
    "max_prob = 0\n",
    "i=0\n",
    "predicted_class = [0]*len(b)\n",
    "true_class= test_class\n",
    "\n",
    "for test_point in b :\n",
    "        for j in range(0,2):\n",
    "\n",
    "            probability = naive_bayes(centroid[j],variances[j],test_point)    \n",
    "            if(max_prob < probability):\n",
    "                max_prob = probability\n",
    "                tag = j\n",
    "                \n",
    "        predicted_class[i] = tag;\n",
    "        max_prob = 0    #reset\n",
    "        i+=1\n",
    "        \n",
    "#print(predicted_class)    \n",
    "        \n",
    "#True Class vs Predicted Class display\n",
    "x={'True_class': true_class, 'Predicted_class': predicted_class}\n",
    "df=pd.DataFrame(x)\n",
    "print(df)     \n",
    "\n",
    "# No. of misclassifications      \n",
    "count=0\n",
    "for i in range(len(true_class)):\n",
    "    if true_class[i]!=predicted_class[i]:\n",
    "        count+=1\n",
    "        \n"
   ]
  },
  {
   "cell_type": "code",
   "execution_count": 7,
   "metadata": {},
   "outputs": [
    {
     "name": "stdout",
     "output_type": "stream",
     "text": [
      "Number of mislabeled points out of total 10000 points : 1309\n",
      "\n",
      "Error probability : \n",
      "0.1309\n"
     ]
    }
   ],
   "source": [
    "print(\"Number of mislabeled points out of total %d points : %d\" % \n",
    "      (b.shape[0],(test_class!=predicted_class).sum()))  #test_class=Y_test\n",
    "\n",
    "#print(b.shape)\n",
    "total = b.shape[0]\n",
    "mislabeled_points = (test_class!=predicted_class).sum()\n",
    "prob = mislabeled_points / total\n",
    "    \n",
    "print(\"\\nError probability : \")    \n",
    "print(prob)"
   ]
  },
  {
   "cell_type": "code",
   "execution_count": null,
   "metadata": {},
   "outputs": [],
   "source": []
  }
 ],
 "metadata": {
  "kernelspec": {
   "display_name": "Python 3",
   "language": "python",
   "name": "python3"
  },
  "language_info": {
   "codemirror_mode": {
    "name": "ipython",
    "version": 3
   },
   "file_extension": ".py",
   "mimetype": "text/x-python",
   "name": "python",
   "nbconvert_exporter": "python",
   "pygments_lexer": "ipython3",
   "version": "3.6.4"
  }
 },
 "nbformat": 4,
 "nbformat_minor": 4
}
